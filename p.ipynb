{
 "cells": [
  {
   "cell_type": "code",
   "execution_count": 46,
   "metadata": {},
   "outputs": [],
   "source": [
    "import regex\n",
    "import nltk\n",
    "import numpy"
   ]
  },
  {
   "cell_type": "code",
   "execution_count": 2,
   "metadata": {},
   "outputs": [
    {
     "name": "stdout",
     "output_type": "stream",
     "text": [
      "enter file name\n",
      "Brown.txt\n"
     ]
    }
   ],
   "source": [
    "file_name = input(\"enter file name\\n\")"
   ]
  },
  {
   "cell_type": "code",
   "execution_count": 3,
   "metadata": {},
   "outputs": [],
   "source": [
    "file_obj  = open(file_name,'r')"
   ]
  },
  {
   "cell_type": "code",
   "execution_count": 4,
   "metadata": {},
   "outputs": [],
   "source": [
    "file_data = file_obj.read()"
   ]
  },
  {
   "cell_type": "code",
   "execution_count": 15,
   "metadata": {},
   "outputs": [],
   "source": [
    "lines = file_data.split('\\n')"
   ]
  },
  {
   "cell_type": "code",
   "execution_count": 18,
   "metadata": {},
   "outputs": [],
   "source": [
    "t_lines = len(lines)"
   ]
  },
  {
   "cell_type": "code",
   "execution_count": 67,
   "metadata": {},
   "outputs": [],
   "source": [
    "valid_tags = ['N','M','V']\n",
    "dict_tags = {'N':0 , 'M':1 , 'V':2 }\n",
    "no_tags = 3"
   ]
  },
  {
   "cell_type": "code",
   "execution_count": 117,
   "metadata": {},
   "outputs": [],
   "source": [
    "def find_index(vocab_index,token) :\n",
    "    if len(vocab_index)==0 :\n",
    "        return [-1,0] \n",
    "    else :\n",
    "        return bst(vocab_index,token,0,len(vocab_index)-1)\n",
    "    "
   ]
  },
  {
   "cell_type": "code",
   "execution_count": 118,
   "metadata": {},
   "outputs": [],
   "source": [
    "def bst(vocab_index,token,i,j) :\n",
    "    \n",
    "    if(i==j) :\n",
    "        if vocab_index[i][0]==token :\n",
    "            return [1,i] \n",
    "        elif vocab_index[i][0] < token :\n",
    "            return [-1,i] \n",
    "        else :\n",
    "            return [-1,i+1]\n",
    "    else :\n",
    "        mid = int( (i+j)/2 )\n",
    "        if vocab_index[mid][0]==token :\n",
    "            return [1,mid] \n",
    "        elif vocab_index[mid][0]<token :\n",
    "            return bst(vocab_index,token,i,mid-1)\n",
    "        else :\n",
    "            return bst(vocab_index,token,mid+1,j)\n",
    "            "
   ]
  },
  {
   "cell_type": "code",
   "execution_count": 120,
   "metadata": {
    "scrolled": true
   },
   "outputs": [
    {
     "name": "stdout",
     "output_type": "stream",
     "text": [
      "mary_N jane_N can_M see_V will_N \n",
      " spot_N will_M see_V mary_N \n",
      "will_M jane_N spot_V mary_N \n",
      "mary_N will_M pat_V spot_N\n",
      "[['will', 4], ['spot', 5], ['see', 3], ['pat', 6], ['mary', 0], ['jane', 1], ['can', 2]]\n",
      "[[4. 0. 0.]\n",
      " [2. 0. 0.]\n",
      " [0. 1. 0.]\n",
      " [0. 0. 2.]\n",
      " [1. 3. 0.]\n",
      " [2. 0. 1.]\n",
      " [0. 0. 1.]]\n"
     ]
    },
    {
     "data": {
      "text/plain": [
       "array([[4., 0., 0.],\n",
       "       [2., 0., 0.],\n",
       "       [0., 1., 0.],\n",
       "       [0., 0., 2.],\n",
       "       [1., 3., 0.],\n",
       "       [2., 0., 1.],\n",
       "       [0., 0., 1.]])"
      ]
     },
     "execution_count": 120,
     "metadata": {},
     "output_type": "execute_result"
    }
   ],
   "source": [
    "def C_pm(lines) :\n",
    "    matrix = numpy.empty( (0,no_tags) ,float )\n",
    "    row_matrix = 0\n",
    "    vocab_list = []\n",
    "    for line in lines :\n",
    "        print(line)\n",
    "        tokens = line.split(' ')\n",
    "        for token in tokens :\n",
    "            parts = token.split('_')\n",
    "            if len(parts)==2 :\n",
    "                if parts[1] in valid_tags  :\n",
    "                    #print(parts[0])\n",
    "                    index_v = find_index(vocab_list,parts[0]) \n",
    "                    #print(index_v)\n",
    "                    index_c = dict_tags[ parts[1] ]\n",
    "                    if index_v[0] == 1 :\n",
    "                        index_r = vocab_list[ index_v[1] ][1] \n",
    "                        matrix[ index_r ][index_c] = matrix[ index_r ][index_c] +  1\n",
    "\n",
    "                    else :\n",
    "                        detail = [ parts[0] , row_matrix ]\n",
    "                        vocab_list.insert(index_v[1] , detail )\n",
    "                        #print(vocab_list)\n",
    "                        matrix = numpy.append( matrix , numpy.zeros( (1,no_tags) ) , axis=0 )\n",
    "                        #print(matrix.shape,row_matrix,index_c)\n",
    "                        matrix[ row_matrix ][index_c] = matrix[ row_matrix ][index_c] +  1\n",
    "                        row_matrix = row_matrix + 1  \n",
    "\n",
    "    return [vocab_list,matrix]\n",
    "C_pm(lines)"
   ]
  },
  {
   "cell_type": "code",
   "execution_count": null,
   "metadata": {},
   "outputs": [],
   "source": [
    "class stage :\n",
    "    \n",
    "    def __init__(self,listt,pr) :\n",
    "        self.tags = listt \n",
    "        self.cur_tag = listt[-1]\n",
    "        self.prev = pr\n",
    "        self.numb = 1\n",
    "        self.index = len(listt) - 1 \n",
    "        "
   ]
  },
  {
   "cell_type": "code",
   "execution_count": null,
   "metadata": {},
   "outputs": [],
   "source": [
    "def test(em,tm,lines) :\n",
    "    \n",
    "    c_m = numpy.zeros( (no_tags,no_tags) , float ) \n",
    "    \n",
    "    for line in lines :\n",
    "        tokens = line.split(' ')\n",
    "        words = []\n",
    "        for token in tokens :\n",
    "            parts = token.split('_')\n",
    "            if len(parts)==2 :\n",
    "                tag = parts[1]\n",
    "                if tag in valid_tags :\n",
    "                    words.append(parts)\n",
    "        \n",
    "        \n",
    "        stack = []\n",
    "        tag_seq = []\n",
    "        prob = -1 \n",
    "        index_sen\n",
    "        tag_list = copy.deepcopy(valid_tags)\n",
    "        obj = stage(tag_list,'s')\n",
    "        stack.append(obj)\n",
    "        while( len(stack) > 0  )\n",
    "        {\n",
    "            if( len(stack[-1].tags) > 0 ) :\n",
    "                if stack[-1].prev == 's' :\n",
    "                    prob = prob*em[0][ stack[-1].index ]\n",
    "                else :\n",
    "                    prob = prob*em[  ]\n",
    "                prob = prob*find_prob(tm,stack[-1].prev,words[index_sen])\n",
    "            else :\n",
    "        }\n",
    "        \n",
    "    "
   ]
  },
  {
   "cell_type": "code",
   "execution_count": 82,
   "metadata": {},
   "outputs": [
    {
     "name": "stdout",
     "output_type": "stream",
     "text": [
      "mary_N jane_N can_M see_V will_N \n",
      "['mary_N', 'jane_N', 'can_M', 'see_V', 'will_N', '']\n",
      "[[1. 0. 0. 0.]\n",
      " [1. 1. 0. 1.]\n",
      " [0. 0. 1. 0.]\n",
      " [1. 0. 0. 0.]]\n",
      " spot_N will_M see_V mary_N \n",
      "['', 'spot_N', 'will_M', 'see_V', 'mary_N', '']\n",
      "[[2. 0. 0. 0.]\n",
      " [1. 2. 0. 2.]\n",
      " [0. 0. 2. 0.]\n",
      " [2. 0. 0. 0.]]\n",
      "will_M jane_N spot_V mary_N \n",
      "['will_M', 'jane_N', 'spot_V', 'mary_N', '']\n",
      "[[2. 1. 0. 0.]\n",
      " [1. 2. 1. 3.]\n",
      " [1. 0. 2. 0.]\n",
      " [3. 0. 0. 0.]]\n",
      "mary_N will_M pat_V spot_N\n",
      "['mary_N', 'will_M', 'pat_V', 'spot_N']\n",
      "[[3. 1. 0. 0.]\n",
      " [1. 3. 1. 4.]\n",
      " [1. 0. 3. 0.]\n",
      " [4. 0. 0. 0.]]\n",
      "[[3. 1. 0. 0.]\n",
      " [1. 3. 1. 4.]\n",
      " [1. 0. 3. 0.]\n",
      " [4. 0. 0. 0.]]\n"
     ]
    }
   ],
   "source": [
    "def f_e1(lines) :\n",
    "    matrix = numpy.zeros( (no_tags+1,no_tags+1) , float )\n",
    "    for line in lines :\n",
    "        #matrix = numpy.zeros( (no_tags+1,no_tags+1) , float )\n",
    "\n",
    "        print(line)\n",
    "        tokens = line.split(' ') \n",
    "        print(tokens)\n",
    "        IsFirst = True\n",
    "        for index in range(len(tokens)) :\n",
    "            \n",
    "            if IsFirst == True :\n",
    "                parts = tokens[index].split('_')\n",
    "                if( len(parts)==2 ) :\n",
    "                    tag = parts[1]\n",
    "                    if tag in valid_tags :\n",
    "                        index_c = dict_tags[ tag ]\n",
    "                        matrix[0][index_c] = matrix[0][index_c] + 1\n",
    "                        IsFirst = False\n",
    "            else :\n",
    "                parts2 = tokens[index].split('_')\n",
    "                parts1 = tokens[index-1].split('_')\n",
    "                if len(parts1)==2 and len(parts2)==2 :\n",
    "                    tag1 = parts1[1]\n",
    "                    tag2 = parts2[1]\n",
    "                    if tag1 in valid_tags and tag2 in valid_tags :\n",
    "                        index_r = dict_tags[ tag1 ]+1\n",
    "                        index_c = dict_tags[ tag2 ]\n",
    "                        matrix[index_r][index_c] = matrix[index_r][index_c] + 1\n",
    "            \n",
    "        index = len(tokens)-1 \n",
    "        while(True) :\n",
    "            parts = tokens[index].split('_')\n",
    "            if len(parts)==2 :\n",
    "                tag = parts[1]\n",
    "                if tag in valid_tags :\n",
    "                    index_r = dict_tags[ tag ]+1\n",
    "                    matrix[index_r][no_tags] = matrix[index_r][no_tags] + 1 \n",
    "                    break \n",
    "            index = index-1\n",
    "    return  matrix\n",
    "a = f_e1(lines)\n",
    "print(a)"
   ]
  },
  {
   "cell_type": "code",
   "execution_count": 57,
   "metadata": {},
   "outputs": [],
   "source": [
    "lines = [ \"mary_N jane_N can_M see_V will_N \" , \" spot_N will_M see_V mary_N \" , \"will_M jane_N spot_V mary_N \" ,\"mary_N will_M pat_V spot_N\"   ]"
   ]
  },
  {
   "cell_type": "code",
   "execution_count": 61,
   "metadata": {},
   "outputs": [
    {
     "ename": "KeyError",
     "evalue": "''",
     "output_type": "error",
     "traceback": [
      "\u001b[0;31m---------------------------------------------------------------------------\u001b[0m",
      "\u001b[0;31mKeyError\u001b[0m                                  Traceback (most recent call last)",
      "\u001b[0;32m<ipython-input-61-7552c0cd46d8>\u001b[0m in \u001b[0;36m<module>\u001b[0;34m\u001b[0m\n\u001b[0;32m----> 1\u001b[0;31m \u001b[0ma\u001b[0m \u001b[0;34m=\u001b[0m \u001b[0mf_e1\u001b[0m\u001b[0;34m(\u001b[0m\u001b[0mlines\u001b[0m\u001b[0;34m)\u001b[0m\u001b[0;34m\u001b[0m\u001b[0;34m\u001b[0m\u001b[0m\n\u001b[0m",
      "\u001b[0;32m<ipython-input-60-ec4e50377ec0>\u001b[0m in \u001b[0;36mf_e1\u001b[0;34m(lines)\u001b[0m\n\u001b[1;32m     24\u001b[0m \u001b[0;34m\u001b[0m\u001b[0m\n\u001b[1;32m     25\u001b[0m         \u001b[0mtag\u001b[0m \u001b[0;34m=\u001b[0m \u001b[0mtokens\u001b[0m\u001b[0;34m[\u001b[0m\u001b[0;34m-\u001b[0m\u001b[0;36m1\u001b[0m\u001b[0;34m]\u001b[0m\u001b[0;34m\u001b[0m\u001b[0;34m\u001b[0m\u001b[0m\n\u001b[0;32m---> 26\u001b[0;31m         \u001b[0mindex_r\u001b[0m \u001b[0;34m=\u001b[0m \u001b[0mdict_tags\u001b[0m\u001b[0;34m[\u001b[0m \u001b[0mtag\u001b[0m \u001b[0;34m]\u001b[0m\u001b[0;34m\u001b[0m\u001b[0;34m\u001b[0m\u001b[0m\n\u001b[0m\u001b[1;32m     27\u001b[0m         \u001b[0mmatrix\u001b[0m\u001b[0;34m[\u001b[0m \u001b[0mindex_r\u001b[0m \u001b[0;34m]\u001b[0m\u001b[0;34m[\u001b[0m\u001b[0mno_tags\u001b[0m\u001b[0;34m+\u001b[0m\u001b[0;36m1\u001b[0m\u001b[0;34m]\u001b[0m \u001b[0;34m=\u001b[0m \u001b[0mmatrix\u001b[0m\u001b[0;34m[\u001b[0m \u001b[0mindex_r\u001b[0m \u001b[0;34m]\u001b[0m\u001b[0;34m[\u001b[0m\u001b[0mno_tags\u001b[0m\u001b[0;34m+\u001b[0m\u001b[0;36m1\u001b[0m\u001b[0;34m]\u001b[0m\u001b[0;34m\u001b[0m\u001b[0;34m\u001b[0m\u001b[0m\n\u001b[1;32m     28\u001b[0m \u001b[0;34m\u001b[0m\u001b[0m\n",
      "\u001b[0;31mKeyError\u001b[0m: ''"
     ]
    }
   ],
   "source": [
    "a = f_e1(lines)"
   ]
  },
  {
   "cell_type": "code",
   "execution_count": 30,
   "metadata": {},
   "outputs": [],
   "source": [
    "data1 = file_data[ 0 : int(t_lines/3) ]\n",
    "data2 = file_data[ int(t_lines/3) : int((2.0/3)*t_lines)   ]\n",
    "data3 = file_data[ int( (2.0/3)*t_lines ) ]"
   ]
  },
  {
   "cell_type": "code",
   "execution_count": 27,
   "metadata": {},
   "outputs": [
    {
     "name": "stdout",
     "output_type": "stream",
     "text": [
      "The_AT Fulton_NP-TL County_NN-TL Grand_JJ-TL Jury_NN-TL said_VBD Friday_NR an_AT investigation_NN of_IN Atlanta's_NP$ recent_JJ primary_NN election_NN produced_VBD ``_`` no_AT evidence_NN ''_'' that_CS any_DTI irregularities_NNS took_VBD place_NN ._.\n"
     ]
    }
   ],
   "source": [
    "C_em(data1)"
   ]
  },
  {
   "cell_type": "code",
   "execution_count": 43,
   "metadata": {},
   "outputs": [],
   "source": [
    "l=[]"
   ]
  },
  {
   "cell_type": "code",
   "execution_count": 44,
   "metadata": {},
   "outputs": [],
   "source": [
    "l.insert(0,4)"
   ]
  },
  {
   "cell_type": "code",
   "execution_count": 48,
   "metadata": {},
   "outputs": [],
   "source": [
    "a = numpy.zeros(4)"
   ]
  },
  {
   "cell_type": "code",
   "execution_count": 49,
   "metadata": {},
   "outputs": [
    {
     "data": {
      "text/plain": [
       "array([0., 0., 0., 0.])"
      ]
     },
     "execution_count": 49,
     "metadata": {},
     "output_type": "execute_result"
    }
   ],
   "source": [
    "a"
   ]
  },
  {
   "cell_type": "code",
   "execution_count": 7,
   "metadata": {},
   "outputs": [],
   "source": [
    "s=[1,2,3]"
   ]
  },
  {
   "cell_type": "code",
   "execution_count": 12,
   "metadata": {},
   "outputs": [
    {
     "ename": "AttributeError",
     "evalue": "'list' object has no attribute 'size'",
     "output_type": "error",
     "traceback": [
      "\u001b[0;31m---------------------------------------------------------------------------\u001b[0m",
      "\u001b[0;31mAttributeError\u001b[0m                            Traceback (most recent call last)",
      "\u001b[0;32m<ipython-input-12-329c9e7eb794>\u001b[0m in \u001b[0;36m<module>\u001b[0;34m\u001b[0m\n\u001b[0;32m----> 1\u001b[0;31m \u001b[0ms\u001b[0m\u001b[0;34m.\u001b[0m\u001b[0msize\u001b[0m\u001b[0;34m(\u001b[0m\u001b[0;34m)\u001b[0m\u001b[0;34m\u001b[0m\u001b[0;34m\u001b[0m\u001b[0m\n\u001b[0m",
      "\u001b[0;31mAttributeError\u001b[0m: 'list' object has no attribute 'size'"
     ]
    }
   ],
   "source": [
    "s.size()"
   ]
  },
  {
   "cell_type": "code",
   "execution_count": 6,
   "metadata": {},
   "outputs": [
    {
     "data": {
      "text/plain": [
       "[1]"
      ]
     },
     "execution_count": 6,
     "metadata": {},
     "output_type": "execute_result"
    }
   ],
   "source": [
    "s"
   ]
  }
 ],
 "metadata": {
  "kernelspec": {
   "display_name": "Python 3",
   "language": "python",
   "name": "python3"
  },
  "language_info": {
   "codemirror_mode": {
    "name": "ipython",
    "version": 3
   },
   "file_extension": ".py",
   "mimetype": "text/x-python",
   "name": "python",
   "nbconvert_exporter": "python",
   "pygments_lexer": "ipython3",
   "version": "3.7.6"
  }
 },
 "nbformat": 4,
 "nbformat_minor": 4
}
